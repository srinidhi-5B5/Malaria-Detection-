{
  "nbformat": 4,
  "nbformat_minor": 0,
  "metadata": {
    "colab": {
      "name": "malaria antidote full",
      "provenance": [],
      "collapsed_sections": []
    },
    "kernelspec": {
      "name": "python3",
      "display_name": "Python 3"
    },
    "language_info": {
      "name": "python"
    },
    "accelerator": "TPU"
  },
  "cells": [
    {
      "cell_type": "code",
      "metadata": {
        "id": "LH0eOLQ9U5vI"
      },
      "source": [
        "import numpy as np\n",
        "import matplotlib.pyplot as plt\n",
        "import os\n",
        "from tqdm import tqdm\n",
        "import cv2 as cv\n",
        "from PIL import Image\n",
        "\n",
        "%matplotlib inline"
      ],
      "execution_count": null,
      "outputs": []
    },
    {
      "cell_type": "code",
      "metadata": {
        "id": "bQA-v3U-VCzk"
      },
      "source": [
        "from zipfile import ZipFile\n",
        "file_name='/content/drive/MyDrive/Malarial Dataset/archive.zip'\n",
        "with ZipFile(file_name,'r') as zip:\n",
        "          zip.extractall()\n",
        "\n",
        "\n"
      ],
      "execution_count": null,
      "outputs": []
    },
    {
      "cell_type": "code",
      "metadata": {
        "id": "U8jIU0b3VH4X",
        "colab": {
          "base_uri": "https://localhost:8080/"
        },
        "outputId": "bc4b5ca2-6065-4267-d305-9891632e29d9"
      },
      "source": [
        "un=\"/content/cell_images/Uninfected\"\n",
        "print(\"no of uninfected images : \",len(os.listdir(un)))"
      ],
      "execution_count": null,
      "outputs": [
        {
          "output_type": "stream",
          "text": [
            "no of uninfected images :  13780\n"
          ],
          "name": "stdout"
        }
      ]
    },
    {
      "cell_type": "code",
      "metadata": {
        "id": "pR0dWKWCVSza",
        "colab": {
          "base_uri": "https://localhost:8080/"
        },
        "outputId": "31ba3a59-cf52-478c-f2b3-4818941d99e3"
      },
      "source": [
        "para=\"/content/cell_images/Parasitized\"\n",
        "print(\"no parasitized images : \",len(os.listdir(para)))"
      ],
      "execution_count": null,
      "outputs": [
        {
          "output_type": "stream",
          "text": [
            "no parasitized images :  13780\n"
          ],
          "name": "stdout"
        }
      ]
    },
    {
      "cell_type": "code",
      "metadata": {
        "colab": {
          "base_uri": "https://localhost:8080/"
        },
        "id": "GiTRNVTNl5DR",
        "outputId": "078febae-c589-4e6d-8a85-e66c97666e75"
      },
      "source": [
        "for image in tqdm(os.listdir(un)):\n",
        "    if image!=\"Thumbs.db\":\n",
        "        img=cv.imread(os.path.join(un,image))\n",
        "        print(img.shape)\n",
        "        break"
      ],
      "execution_count": null,
      "outputs": [
        {
          "output_type": "stream",
          "text": [
            "  0%|          | 0/13780 [00:00<?, ?it/s]"
          ],
          "name": "stderr"
        },
        {
          "output_type": "stream",
          "text": [
            "(115, 118, 3)\n"
          ],
          "name": "stdout"
        },
        {
          "output_type": "stream",
          "text": [
            "\n"
          ],
          "name": "stderr"
        }
      ]
    },
    {
      "cell_type": "code",
      "metadata": {
        "id": "jo46LA-RVUpV",
        "colab": {
          "base_uri": "https://localhost:8080/"
        },
        "outputId": "2bd96fe6-13b4-431c-8d71-73c0219a04d0"
      },
      "source": [
        "unin=[]\n",
        "for image in tqdm(os.listdir(un)):\n",
        "    if image!=\"Thumbs.db\":\n",
        "        img=Image.open(os.path.join(un,image))\n",
        "        img=img.resize((64,64))\n",
        "        img=np.asarray(img)\n",
        "        unin.append(img)"
      ],
      "execution_count": null,
      "outputs": [
        {
          "output_type": "stream",
          "text": [
            "100%|██████████| 13780/13780 [00:16<00:00, 851.22it/s]\n"
          ],
          "name": "stderr"
        }
      ]
    },
    {
      "cell_type": "code",
      "metadata": {
        "id": "B06Xp2jlVc_R",
        "colab": {
          "base_uri": "https://localhost:8080/"
        },
        "outputId": "24c3bd42-7a8b-46f2-ac97-2e8b041859e9"
      },
      "source": [
        "print(len(unin))"
      ],
      "execution_count": null,
      "outputs": [
        {
          "output_type": "stream",
          "text": [
            "13779\n"
          ],
          "name": "stdout"
        }
      ]
    },
    {
      "cell_type": "code",
      "metadata": {
        "id": "xRqegz4pVgfi",
        "colab": {
          "base_uri": "https://localhost:8080/"
        },
        "outputId": "0d7690c2-820e-4af8-a487-8cfe76430617"
      },
      "source": [
        "print(len(unin[794]))\n",
        "print(len(unin[7]))\n"
      ],
      "execution_count": null,
      "outputs": [
        {
          "output_type": "stream",
          "text": [
            "64\n",
            "64\n"
          ],
          "name": "stdout"
        }
      ]
    },
    {
      "cell_type": "code",
      "metadata": {
        "id": "eXO5WjNRVjLN",
        "colab": {
          "base_uri": "https://localhost:8080/"
        },
        "outputId": "24463980-34a0-48a3-df0f-956fe09a1248"
      },
      "source": [
        "par=[]\n",
        "for image in tqdm(os.listdir(para)):\n",
        "    if image!=\"Thumbs.db\":\n",
        "        img=Image.open(os.path.join(para,image))\n",
        "        img=img.resize((64,64))\n",
        "        img=np.asarray(img)\n",
        "        par.append(img)"
      ],
      "execution_count": null,
      "outputs": [
        {
          "output_type": "stream",
          "text": [
            "100%|██████████| 13780/13780 [00:17<00:00, 804.77it/s]\n"
          ],
          "name": "stderr"
        }
      ]
    },
    {
      "cell_type": "code",
      "metadata": {
        "id": "l4HMs-tkVmSm",
        "colab": {
          "base_uri": "https://localhost:8080/"
        },
        "outputId": "a2a5e383-f65b-4c10-9149-4825f4b2f930"
      },
      "source": [
        "print(len(par))"
      ],
      "execution_count": null,
      "outputs": [
        {
          "output_type": "stream",
          "text": [
            "13779\n"
          ],
          "name": "stdout"
        }
      ]
    },
    {
      "cell_type": "code",
      "metadata": {
        "id": "lX_e_jLQVqSp"
      },
      "source": [
        "ov_images=unin+par"
      ],
      "execution_count": null,
      "outputs": []
    },
    {
      "cell_type": "code",
      "metadata": {
        "id": "RtDk1BTqVsHt",
        "colab": {
          "base_uri": "https://localhost:8080/"
        },
        "outputId": "bc3a46d0-e454-4e09-dd03-3f5426b2e2f0"
      },
      "source": [
        "print(len(ov_images))"
      ],
      "execution_count": null,
      "outputs": [
        {
          "output_type": "stream",
          "text": [
            "27558\n"
          ],
          "name": "stdout"
        }
      ]
    },
    {
      "cell_type": "code",
      "metadata": {
        "id": "_WOkWwViVuJO"
      },
      "source": [
        "labels=([0]*(len(os.listdir(un))-1))+([1]*(len(os.listdir(para))-1))"
      ],
      "execution_count": null,
      "outputs": []
    },
    {
      "cell_type": "code",
      "metadata": {
        "id": "HUc7AtDrVwyi",
        "colab": {
          "base_uri": "https://localhost:8080/"
        },
        "outputId": "c28a36ec-d5df-45fd-f6b9-d270db8fcd81"
      },
      "source": [
        "print(len(labels))"
      ],
      "execution_count": null,
      "outputs": [
        {
          "output_type": "stream",
          "text": [
            "27558\n"
          ],
          "name": "stdout"
        }
      ]
    },
    {
      "cell_type": "code",
      "metadata": {
        "id": "sZX23LSPV2XQ"
      },
      "source": [
        "ov_images=np.array(ov_images)"
      ],
      "execution_count": null,
      "outputs": []
    },
    {
      "cell_type": "code",
      "metadata": {
        "id": "hBenSHDXV57r",
        "colab": {
          "base_uri": "https://localhost:8080/"
        },
        "outputId": "e2fcf6b2-3668-46ff-ff37-6850277c3f52"
      },
      "source": [
        "type(ov_images)"
      ],
      "execution_count": null,
      "outputs": [
        {
          "output_type": "execute_result",
          "data": {
            "text/plain": [
              "numpy.ndarray"
            ]
          },
          "metadata": {
            "tags": []
          },
          "execution_count": 50
        }
      ]
    },
    {
      "cell_type": "code",
      "metadata": {
        "id": "Fo48KcPsV8UE"
      },
      "source": [
        "labels=np.array(labels)"
      ],
      "execution_count": null,
      "outputs": []
    },
    {
      "cell_type": "code",
      "metadata": {
        "id": "yqIOhOOgV-jY",
        "colab": {
          "base_uri": "https://localhost:8080/"
        },
        "outputId": "32a267ad-6d24-40a8-d015-22e7a41efc23"
      },
      "source": [
        "type(labels)"
      ],
      "execution_count": null,
      "outputs": [
        {
          "output_type": "execute_result",
          "data": {
            "text/plain": [
              "numpy.ndarray"
            ]
          },
          "metadata": {
            "tags": []
          },
          "execution_count": 52
        }
      ]
    },
    {
      "cell_type": "code",
      "metadata": {
        "id": "OHOU2p2gWBN8"
      },
      "source": [
        "ov_images=ov_images/255"
      ],
      "execution_count": null,
      "outputs": []
    },
    {
      "cell_type": "code",
      "metadata": {
        "id": "gd6mMAvrWF4x"
      },
      "source": [
        "from sklearn.utils import shuffle"
      ],
      "execution_count": null,
      "outputs": []
    },
    {
      "cell_type": "code",
      "metadata": {
        "id": "G6IEWU2tWH8Q"
      },
      "source": [
        "ov_images,labels=shuffle(ov_images,labels)"
      ],
      "execution_count": null,
      "outputs": []
    },
    {
      "cell_type": "code",
      "metadata": {
        "id": "ebMKlHb0WLwe",
        "colab": {
          "base_uri": "https://localhost:8080/"
        },
        "outputId": "e1e9816a-f254-4eb0-960a-5d1c6a3fb002"
      },
      "source": [
        "labels[985]"
      ],
      "execution_count": null,
      "outputs": [
        {
          "output_type": "execute_result",
          "data": {
            "text/plain": [
              "1"
            ]
          },
          "metadata": {
            "tags": []
          },
          "execution_count": 56
        }
      ]
    },
    {
      "cell_type": "code",
      "metadata": {
        "id": "zJbETe6DWSA_"
      },
      "source": [
        "from sklearn.model_selection import train_test_split"
      ],
      "execution_count": null,
      "outputs": []
    },
    {
      "cell_type": "code",
      "metadata": {
        "id": "CXymPVEgWbPV"
      },
      "source": [
        "x_train,x_test,y_train,y_test=train_test_split(ov_images,labels,test_size=0.2,stratify=y)\n"
      ],
      "execution_count": null,
      "outputs": []
    },
    {
      "cell_type": "code",
      "metadata": {
        "id": "UKbxGjTDWlM7",
        "colab": {
          "base_uri": "https://localhost:8080/"
        },
        "outputId": "7e68076d-37f6-4654-e145-04791f6a629d"
      },
      "source": [
        "print(x_train.shape,y_train.shape)"
      ],
      "execution_count": null,
      "outputs": [
        {
          "output_type": "stream",
          "text": [
            "(22046, 64, 64, 3) (22046,)\n"
          ],
          "name": "stdout"
        }
      ]
    },
    {
      "cell_type": "code",
      "metadata": {
        "id": "6t4lSifSWnCg",
        "colab": {
          "base_uri": "https://localhost:8080/"
        },
        "outputId": "fd11a6e8-3efa-432b-c180-72804648f539"
      },
      "source": [
        "print(x_test.shape,y_test.shape)"
      ],
      "execution_count": null,
      "outputs": [
        {
          "output_type": "stream",
          "text": [
            "(5512, 64, 64, 3) (5512,)\n"
          ],
          "name": "stdout"
        }
      ]
    },
    {
      "cell_type": "code",
      "metadata": {
        "id": "A8DtzOYlWpVo"
      },
      "source": [
        "import tensorflow as tf\n",
        "from tensorflow.keras.models import Sequential\n",
        "from tensorflow.keras.layers import Dense, Conv2D, MaxPooling2D, Dropout, Flatten\n",
        "from keras import Model\n",
        "from tensorflow.keras.optimizers import Adam\n",
        "from tensorflow.keras.preprocessing.image import ImageDataGenerator\n",
        "from tensorflow.keras.callbacks import EarlyStopping"
      ],
      "execution_count": null,
      "outputs": []
    },
    {
      "cell_type": "code",
      "metadata": {
        "id": "tKUR5xDiWsz5"
      },
      "source": [
        "model = Sequential()\n",
        "\n",
        "#adding convo-pool layers\n",
        "model.add(Conv2D(filters=32, kernel_size=(3,3),input_shape=(64,64,3),activation='relu',padding=\"same\"))\n",
        "model.add(MaxPooling2D(pool_size=(2,2),strides=2))\n",
        "model.add(Conv2D(filters=64, kernel_size=(3,3),input_shape=(64,64,3),activation='relu',padding=\"same\"))\n",
        "model.add(MaxPooling2D(pool_size=(2,2),strides=2))\n",
        "model.add(Conv2D(filters=128, kernel_size=(3,3),input_shape=(64,64,3),activation='relu',padding=\"same\"))\n",
        "model.add(MaxPooling2D(pool_size=(2,2),strides=2))\n",
        "model.add(Conv2D(filters=256, kernel_size=(3,3),input_shape=(64,64,3),activation='relu',padding=\"same\"))\n",
        "model.add(MaxPooling2D(pool_size=(2,2),strides=2))\n",
        "\n",
        "# flattening image\n",
        "model.add(Flatten())\n",
        "\n",
        "# adding dense layers\n",
        "model.add(Dense(128,activation='relu'))\n",
        "# adding dropout to minimize overfitting issue\n",
        "model.add(Dropout(0.2))\n",
        "model.add(Dense(50,activation='relu'))\n",
        "model.add(Dropout(0.2))\n",
        "model.add(Dense(1,activation='sigmoid'))\n",
        "\n",
        "#compiling the model\n",
        "model.compile(loss='binary_crossentropy',optimizer='adam' ,metrics=[\"accuracy\"])\n",
        "\n",
        "#summary of the model\n",
        "model.summary()"
      ],
      "execution_count": null,
      "outputs": []
    },
    {
      "cell_type": "code",
      "metadata": {
        "colab": {
          "base_uri": "https://localhost:8080/"
        },
        "id": "LNOCbnxZWv6l",
        "outputId": "0d0edfa6-8240-49d1-8085-3c804c1a9073"
      },
      "source": [
        "history=model.fit(x_train,y_train,verbose=1,epochs=5,validation_data=(x_test,y_test))"
      ],
      "execution_count": null,
      "outputs": [
        {
          "output_type": "stream",
          "text": [
            "Epoch 1/5\n",
            "689/689 [==============================] - 257s 373ms/step - loss: 0.1340 - accuracy: 0.9574 - val_loss: 0.1370 - val_accuracy: 0.9575\n",
            "Epoch 2/5\n",
            "689/689 [==============================] - 261s 379ms/step - loss: 0.1231 - accuracy: 0.9600 - val_loss: 0.1051 - val_accuracy: 0.9624\n",
            "Epoch 3/5\n",
            "689/689 [==============================] - 263s 381ms/step - loss: 0.1173 - accuracy: 0.9612 - val_loss: 0.1149 - val_accuracy: 0.9585\n",
            "Epoch 4/5\n",
            "689/689 [==============================] - 262s 381ms/step - loss: 0.1052 - accuracy: 0.9634 - val_loss: 0.1099 - val_accuracy: 0.9641\n",
            "Epoch 5/5\n",
            "689/689 [==============================] - 261s 379ms/step - loss: 0.0986 - accuracy: 0.9669 - val_loss: 0.1044 - val_accuracy: 0.9641\n"
          ],
          "name": "stdout"
        }
      ]
    },
    {
      "cell_type": "code",
      "metadata": {
        "id": "VkxJNDzUW5GF",
        "colab": {
          "base_uri": "https://localhost:8080/"
        },
        "outputId": "0a75c191-121f-4d86-84c9-e9cdcefca1c2"
      },
      "source": [
        "yhat=model.predict_classes(x_test)"
      ],
      "execution_count": null,
      "outputs": [
        {
          "output_type": "stream",
          "text": [
            "/usr/local/lib/python3.7/dist-packages/tensorflow/python/keras/engine/sequential.py:455: UserWarning: `model.predict_classes()` is deprecated and will be removed after 2021-01-01. Please use instead:* `np.argmax(model.predict(x), axis=-1)`,   if your model does multi-class classification   (e.g. if it uses a `softmax` last-layer activation).* `(model.predict(x) > 0.5).astype(\"int32\")`,   if your model does binary classification   (e.g. if it uses a `sigmoid` last-layer activation).\n",
            "  warnings.warn('`model.predict_classes()` is deprecated and '\n"
          ],
          "name": "stderr"
        }
      ]
    },
    {
      "cell_type": "code",
      "metadata": {
        "id": "Lgl77XWtd8Ws"
      },
      "source": [
        "from sklearn.metrics import precision_score, recall_score, accuracy_score, confusion_matrix,f1_score"
      ],
      "execution_count": null,
      "outputs": []
    },
    {
      "cell_type": "code",
      "metadata": {
        "colab": {
          "base_uri": "https://localhost:8080/"
        },
        "id": "uTmq4GZWeGuf",
        "outputId": "307cdf43-24c2-472b-ab63-676a0bf00689"
      },
      "source": [
        "precision_score(y_test,yhat)"
      ],
      "execution_count": null,
      "outputs": [
        {
          "output_type": "execute_result",
          "data": {
            "text/plain": [
              "0.9736936936936937"
            ]
          },
          "metadata": {
            "tags": []
          },
          "execution_count": 65
        }
      ]
    },
    {
      "cell_type": "code",
      "metadata": {
        "colab": {
          "base_uri": "https://localhost:8080/"
        },
        "id": "RyCn_5JXgDnq",
        "outputId": "0d8a9652-23f6-4a9f-94e6-0c4913d2ed1a"
      },
      "source": [
        "recall_score(y_test,yhat)"
      ],
      "execution_count": null,
      "outputs": [
        {
          "output_type": "execute_result",
          "data": {
            "text/plain": [
              "0.9688060236643958"
            ]
          },
          "metadata": {
            "tags": []
          },
          "execution_count": 66
        }
      ]
    },
    {
      "cell_type": "code",
      "metadata": {
        "colab": {
          "base_uri": "https://localhost:8080/"
        },
        "id": "f6CsnVbHgM-z",
        "outputId": "2a5a0a01-1629-41bd-eaa2-e234ce15a11e"
      },
      "source": [
        "f1_score(y_test,yhat)"
      ],
      "execution_count": null,
      "outputs": [
        {
          "output_type": "execute_result",
          "data": {
            "text/plain": [
              "0.9712437095614666"
            ]
          },
          "metadata": {
            "tags": []
          },
          "execution_count": 68
        }
      ]
    },
    {
      "cell_type": "code",
      "metadata": {
        "id": "HulChbdugjcF"
      },
      "source": [
        "import matplotlib.pyplot as plt\n",
        "import seaborn as sns"
      ],
      "execution_count": null,
      "outputs": []
    },
    {
      "cell_type": "code",
      "metadata": {
        "colab": {
          "base_uri": "https://localhost:8080/",
          "height": 316
        },
        "id": "ZZyB5Hs0gV3k",
        "outputId": "7cb164ce-0256-434b-cbae-aee25176a02d"
      },
      "source": [
        "from sklearn.metrics import confusion_matrix\n",
        "cf_matrix=confusion_matrix(yhat,y_test)\n",
        "print(cf_matrix)\n",
        "sns.heatmap(cf_matrix)"
      ],
      "execution_count": null,
      "outputs": [
        {
          "output_type": "stream",
          "text": [
            "[[2650   87]\n",
            " [  73 2702]]\n"
          ],
          "name": "stdout"
        },
        {
          "output_type": "execute_result",
          "data": {
            "text/plain": [
              "<matplotlib.axes._subplots.AxesSubplot at 0x7f19f54fa690>"
            ]
          },
          "metadata": {
            "tags": []
          },
          "execution_count": 0
        },
        {
          "output_type": "display_data",
          "data": {
            "image/png": "[encoded data removed]",
            "text/plain": [
              "<Figure size 432x288 with 2 Axes>"
            ]
          },
          "metadata": {
            "tags": []
          }
        }
      ]
    },
    {
      "cell_type": "code",
      "metadata": {
        "id": "XQUxRDfkgclH"
      },
      "source": [
        ""
      ],
      "execution_count": null,
      "outputs": []
    }
  ]
}